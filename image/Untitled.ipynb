{
 "cells": [
  {
   "cell_type": "code",
   "execution_count": 2,
   "id": "ab0dd47d",
   "metadata": {},
   "outputs": [],
   "source": [
    "import mysql.connector\n",
    "\n",
    "mydb = mysql.connector.connect(\n",
    "  host=\"localhost\",\n",
    "  user=\"root\",\n",
    "  password=\"\",\n",
    "  database=\"googleplay\"\n",
    ")\n",
    "\n",
    "\n",
    "for i in range(176):\n",
    "    uid = \"A\"+str(i)\n",
    "    detail = \"image/detail/\"+uid\n",
    "    mycursor = mydb.cursor()\n",
    "\n",
    "    sql = \"UPDATE application SET detail = %s WHERE id = %s\"\n",
    "    val = (detail, uid)\n",
    "\n",
    "    mycursor.execute(sql, val)\n",
    "\n",
    "mydb.commit()\n",
    "\n",
    "\n",
    "# print(mycursor.rowcount, \"record(s) affected\")"
   ]
  },
  {
   "cell_type": "code",
   "execution_count": null,
   "id": "c1ce8c40",
   "metadata": {},
   "outputs": [],
   "source": []
  }
 ],
 "metadata": {
  "kernelspec": {
   "display_name": "Python 3",
   "language": "python",
   "name": "python3"
  },
  "language_info": {
   "codemirror_mode": {
    "name": "ipython",
    "version": 3
   },
   "file_extension": ".py",
   "mimetype": "text/x-python",
   "name": "python",
   "nbconvert_exporter": "python",
   "pygments_lexer": "ipython3",
   "version": "3.9.4"
  }
 },
 "nbformat": 4,
 "nbformat_minor": 5
}
